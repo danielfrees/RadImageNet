{
 "cells": [
  {
   "cell_type": "code",
   "execution_count": 1,
   "metadata": {},
   "outputs": [],
   "source": [
    "import pandas as pd\n",
    "import torch\n",
    "from torch import nn\n",
    "from torchsummary import summary\n",
    "from collections import OrderedDict\n",
    "from torchvision.models import resnet50, densenet121, inception_v3\n",
    "from tqdm import tqdm"
   ]
  },
  {
   "cell_type": "code",
   "execution_count": 2,
   "metadata": {},
   "outputs": [],
   "source": [
    "from skimage.io import imread\n",
    "import numpy as np\n",
    "from skimage.transform import resize\n",
    "from torch.utils.data import DataLoader\n",
    "from torch.utils.data import Dataset\n",
    "from PIL import Image\n",
    "from torchvision import models, transforms\n",
    "import os\n",
    "import cv2"
   ]
  },
  {
   "cell_type": "code",
   "execution_count": 3,
   "metadata": {},
   "outputs": [],
   "source": [
    "#os.environ[\"CUDA_DEVICE_ORDER\"]=\"PCI_BUS_ID\"  \n",
    "os.environ[\"CUDA_VISIBLE_DEVICES\"]=\"5\""
   ]
  },
  {
   "cell_type": "code",
   "execution_count": 4,
   "metadata": {},
   "outputs": [],
   "source": [
    "batch_size = 8"
   ]
  },
  {
   "cell_type": "code",
   "execution_count": 5,
   "metadata": {},
   "outputs": [],
   "source": [
    "df_train = pd.read_csv('dataframe/train_fold\"+str(i+1)+\".csv')\n",
    "df_val = pd.read_csv('dataframe/val_fold\"+str(i+1)+\".csv')\n",
    "df_test= pd.read_csv('dataframe/test_fold\"+str(i+1)+\".csv')"
   ]
  },
  {
   "cell_type": "code",
   "execution_count": 6,
   "metadata": {},
   "outputs": [],
   "source": [
    "def get_label(x):\n",
    "    if x == 'yes':\n",
    "        return 1\n",
    "    else:\n",
    "        return 0"
   ]
  },
  {
   "cell_type": "code",
   "execution_count": 7,
   "metadata": {},
   "outputs": [],
   "source": [
    "df_train['label']=df_train['label'].apply(get_label)"
   ]
  },
  {
   "cell_type": "code",
   "execution_count": 8,
   "metadata": {},
   "outputs": [],
   "source": [
    "df_val['label']=df_val['label'].apply(get_label)\n",
    "df_test['label']=df_test['label'].apply(get_label)"
   ]
  },
  {
   "cell_type": "code",
   "execution_count": 9,
   "metadata": {},
   "outputs": [],
   "source": [
    "num_class = len(df_train.label.unique())"
   ]
  },
  {
   "cell_type": "code",
   "execution_count": 10,
   "metadata": {},
   "outputs": [],
   "source": [
    "class Classifier(nn.Module):\n",
    "    def __init__(self, num_class):\n",
    "        super().__init__()\n",
    "        self.drop_out = nn.Dropout()\n",
    "        self.linear = nn.Linear(2048, num_class)\n",
    "\n",
    "    def forward(self, x):\n",
    "        x = x.view(x.size(0), -1)\n",
    "        x = self.drop_out(x)\n",
    "        x = self.linear(x)\n",
    "        #x = torch.softmax(x, dim=-1)\n",
    "        return x\n",
    "\n",
    "\n",
    "class Backbone(nn.Module):\n",
    "    def __init__(self):\n",
    "        super().__init__()\n",
    "        base_model = resnet50(pretrained=False)\n",
    "        encoder_layers = list(base_model.children())\n",
    "        self.backbone = nn.Sequential(*encoder_layers[:9])\n",
    "                        \n",
    "    def forward(self, x):\n",
    "        return self.backbone(x)"
   ]
  },
  {
   "cell_type": "code",
   "execution_count": 11,
   "metadata": {},
   "outputs": [],
   "source": [
    "backbone = Backbone()\n",
    "classifier = Classifier(num_class=num_class)"
   ]
  },
  {
   "cell_type": "code",
   "execution_count": 12,
   "metadata": {},
   "outputs": [
    {
     "data": {
      "text/plain": [
       "<All keys matched successfully>"
      ]
     },
     "execution_count": 12,
     "metadata": {},
     "output_type": "execute_result"
    }
   ],
   "source": [
    "backbone.load_state_dict(torch.load(\"resnet50_torch.pt\"))\n"
   ]
  },
  {
   "cell_type": "code",
   "execution_count": 16,
   "metadata": {},
   "outputs": [],
   "source": [
    "class createDataset(Dataset):\n",
    "    def __init__(self, dataframe, transform=None):\n",
    "        self.dataframe = dataframe\n",
    "        self.transform = transforms.Compose([transforms.ToTensor()])\n",
    "\n",
    "    def __len__(self):\n",
    "        return self.dataframe.shape[0]\n",
    "        \n",
    "    def __getitem__(self, index):\n",
    "        image = self.dataframe.iloc[index][\"img_dir\"]\n",
    "        image = cv2.imread(image)\n",
    "        image = (image-127.5)*2 / 255\n",
    "        image = cv2.resize(image,(224,224))\n",
    "        #image = np.transpose(image,(2,0,1))   \n",
    "        if self.transform is not None:\n",
    "            image = self.transform(image)\n",
    "        label = self.dataframe.iloc[index][\"label\"]\n",
    "        return {\"image\": image , \"label\": torch.tensor(label, dtype=torch.long)}"
   ]
  },
  {
   "cell_type": "code",
   "execution_count": 17,
   "metadata": {},
   "outputs": [],
   "source": [
    "train_dataset = createDataset(df_train)\n",
    "train_loader = DataLoader(train_dataset, batch_size=batch_size, shuffle=True, num_workers=20)\n",
    "val_dataset = createDataset(df_val)\n",
    "val_loader = DataLoader(val_dataset, batch_size=batch_size, shuffle=True, num_workers=20)\n",
    "\n",
    "test_dataset = createDataset(df_test)\n",
    "test_loader = DataLoader(test_dataset, batch_size=1, shuffle=False, num_workers=20)"
   ]
  },
  {
   "cell_type": "code",
   "execution_count": 18,
   "metadata": {},
   "outputs": [],
   "source": [
    "def train_model(model, criterion, optimizer,  num_epochs=30, fold_num):\n",
    "    min_valid_loss = np.inf\n",
    "\n",
    "    for e in range(num_epochs):\n",
    "        train_loss = 0.0\n",
    "        model.train()     # Optional when not using Model Specific layer\n",
    "        for i_batch, info_batch in enumerate(train_loader):\n",
    "            if torch.cuda.is_available():\n",
    "                data, labels = info_batch['image'].to(device, dtype=torch.float), info_batch['label'].to(device)\n",
    "            \n",
    "            optimizer.zero_grad()\n",
    "            target = model(data)\n",
    "            loss = criterion(target,labels)\n",
    "            loss.backward()\n",
    "            optimizer.step()\n",
    "            train_loss += loss.item()\n",
    "        \n",
    "        valid_loss = 0.0\n",
    "        model.eval()     # Optional when not using Model Specific layer\n",
    "        for i_batch, info_batch in enumerate(val_loader):\n",
    "            if torch.cuda.is_available():\n",
    "                data, labels = info_batch['image'].to(device, dtype=torch.float), info_batch['label'].to(device)\n",
    "            \n",
    "            target = model(data)\n",
    "            loss = criterion(target,labels)\n",
    "            valid_loss = loss.item() * data.size(0)\n",
    "\n",
    "        print(f'Epoch {e+1} \\t\\t Training Loss: {train_loss / len(train_loader)} \\t\\t Validation Loss: {valid_loss / len(val_loader)}')\n",
    "        if min_valid_loss > valid_loss:\n",
    "            print(f'Validation Loss Decreased({min_valid_loss:.6f}--->{valid_loss:.6f}) \\t Saving The Model')\n",
    "            min_valid_loss = valid_loss\n",
    "            # Saving State Dict\n",
    "            torch.save(model.state_dict(), 'acl_fold'+str(fold_num)+'_best_model.pth')\n",
    "    return model"
   ]
  },
  {
   "cell_type": "code",
   "execution_count": 19,
   "metadata": {},
   "outputs": [],
   "source": [
    "criterion = nn.CrossEntropyLoss()\n",
    "optimizer = torch.optim.Adam(model.parameters(), lr = 0.001)"
   ]
  },
  {
   "cell_type": "code",
   "execution_count": 20,
   "metadata": {},
   "outputs": [
    {
     "name": "stdout",
     "output_type": "stream",
     "text": [
      "Epoch 1 \t\t Training Loss: 0.4457762529561808 \t\t Validation Loss: 0.31227233193137427\n",
      "Validation Loss Decreased(inf--->3.434996) \t Saving The Model\n",
      "Epoch 2 \t\t Training Loss: 0.14679992552027926 \t\t Validation Loss: 0.09849888628179376\n",
      "Validation Loss Decreased(3.434996--->1.083488) \t Saving The Model\n",
      "Epoch 3 \t\t Training Loss: 0.08154763455744475 \t\t Validation Loss: 0.12573414499109442\n",
      "Epoch 4 \t\t Training Loss: 0.062108178586560904 \t\t Validation Loss: 0.25889845327897504\n",
      "Epoch 5 \t\t Training Loss: 0.06391522991675679 \t\t Validation Loss: 0.017163275317712265\n",
      "Validation Loss Decreased(1.083488--->0.188796) \t Saving The Model\n",
      "Epoch 6 \t\t Training Loss: 0.07031963857658051 \t\t Validation Loss: 0.03573957085609436\n",
      "Epoch 7 \t\t Training Loss: 0.06533189754890582 \t\t Validation Loss: 0.18448266116055576\n",
      "Epoch 8 \t\t Training Loss: 0.018094773113741643 \t\t Validation Loss: 0.0021281332116235385\n",
      "Validation Loss Decreased(0.188796--->0.023409) \t Saving The Model\n",
      "Epoch 9 \t\t Training Loss: 0.014920052743616328 \t\t Validation Loss: 0.002436336637897925\n",
      "Epoch 10 \t\t Training Loss: 0.006788608369298834 \t\t Validation Loss: 0.007084378464655442\n",
      "Epoch 11 \t\t Training Loss: 0.0015907104557100155 \t\t Validation Loss: 0.24107835509560324\n",
      "Epoch 12 \t\t Training Loss: 0.0032665943758079913 \t\t Validation Loss: 0.0003260832533917644\n",
      "Validation Loss Decreased(0.023409--->0.003587) \t Saving The Model\n",
      "Epoch 13 \t\t Training Loss: 0.0016831970993675047 \t\t Validation Loss: 0.7905788421630859\n",
      "Epoch 14 \t\t Training Loss: 0.0017326752802416326 \t\t Validation Loss: 0.008139228278940374\n",
      "Epoch 15 \t\t Training Loss: 0.00318281331147863 \t\t Validation Loss: 0.28556355563077057\n",
      "Epoch 16 \t\t Training Loss: 0.007273598028962294 \t\t Validation Loss: 0.4322407895868475\n",
      "Epoch 17 \t\t Training Loss: 0.0029323149308586103 \t\t Validation Loss: 0.6556116884404962\n",
      "Epoch 18 \t\t Training Loss: 0.08122620849541648 \t\t Validation Loss: 0.08495957201177423\n",
      "Epoch 19 \t\t Training Loss: 0.04737511703969686 \t\t Validation Loss: 0.18606922843239523\n",
      "Epoch 20 \t\t Training Loss: 0.0035187961037501316 \t\t Validation Loss: 0.1872019334272905\n",
      "Epoch 21 \t\t Training Loss: 0.0008831469497874752 \t\t Validation Loss: 0.0005289917303757234\n",
      "Epoch 22 \t\t Training Loss: 0.0006706713745106154 \t\t Validation Loss: 0.016736537218093872\n",
      "Epoch 23 \t\t Training Loss: 0.013629328110075402 \t\t Validation Loss: 0.6344210451299493\n",
      "Epoch 24 \t\t Training Loss: 0.023848454354840093 \t\t Validation Loss: 0.444000244140625\n",
      "Epoch 25 \t\t Training Loss: 0.004152694679510455 \t\t Validation Loss: 0.02475080977786671\n",
      "Epoch 26 \t\t Training Loss: 0.00046661380891082146 \t\t Validation Loss: 0.038509940559213814\n",
      "Epoch 27 \t\t Training Loss: 0.11307178725020434 \t\t Validation Loss: 0.7771469463001598\n",
      "Epoch 28 \t\t Training Loss: 0.012336848162074322 \t\t Validation Loss: 0.2670136581767689\n",
      "Epoch 29 \t\t Training Loss: 0.0023676027523314197 \t\t Validation Loss: 0.33774974129416724\n",
      "Epoch 30 \t\t Training Loss: 0.003787129033608525 \t\t Validation Loss: 0.6296653747558594\n"
     ]
    }
   ],
   "source": [
    "for f in range(5):\n",
    "        ###use pretrain RIN-ResNet50 weights\n",
    "        model = nn.Sequential(backbone, classifier)\n",
    "        device = torch.device(\"cuda\")\n",
    "        model = model.to(device)\n",
    "        best_model = train_model(model, criterion,optimizer, fold_num = f)"
   ]
  }
 ],
 "metadata": {
  "kernelspec": {
   "display_name": "Python 3.8.10 ('venv': venv)",
   "language": "python",
   "name": "python3"
  },
  "language_info": {
   "codemirror_mode": {
    "name": "ipython",
    "version": 3
   },
   "file_extension": ".py",
   "mimetype": "text/x-python",
   "name": "python",
   "nbconvert_exporter": "python",
   "pygments_lexer": "ipython3",
   "version": "3.8.10"
  },
  "vscode": {
   "interpreter": {
    "hash": "70862b2a35782cf03f229e4805e6826ca21bf4d4920a510b87654639dd617db4"
   }
  }
 },
 "nbformat": 4,
 "nbformat_minor": 4
}
